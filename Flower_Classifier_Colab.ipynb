{
  "nbformat": 4,
  "nbformat_minor": 0,
  "metadata": {
    "colab": {
      "name": "Flower_Classifier_Colab.ipynb",
      "version": "0.3.2",
      "provenance": [],
      "collapsed_sections": []
    },
    "kernelspec": {
      "name": "python3",
      "display_name": "Python 3"
    },
    "accelerator": "GPU"
  },
  "cells": [
    {
      "metadata": {
        "id": "LIOtVKjvO8hL",
        "colab_type": "code",
        "colab": {}
      },
      "cell_type": "code",
      "source": [
        "# Imports section\n",
        "import torch, torchvision, PIL, json\n",
        "import matplotlib.pyplot as plt\n",
        "import numpy as np\n",
        "from torchvision import datasets, transforms, models\n",
        "from torch import nn, optim"
      ],
      "execution_count": 0,
      "outputs": []
    },
    {
      "metadata": {
        "id": "SdqF4qJdRkmX",
        "colab_type": "code",
        "colab": {}
      },
      "cell_type": "code",
      "source": [
        "# uninstall older PIL version\n",
        "!pip uninstall -y Pillow\n",
        "# install the new one\n",
        "!pip install Pillow\n",
        "# check Pillow version\n",
        "# restart might be needed to use the new version\n",
        "print(PIL.PILLOW_VERSION)"
      ],
      "execution_count": 0,
      "outputs": []
    },
    {
      "metadata": {
        "id": "yShq_fjDR480",
        "colab_type": "code",
        "colab": {}
      },
      "cell_type": "code",
      "source": [
        "# check if CUDA is available\n",
        "train_on_gpu = torch.cuda.is_available()\n",
        "\n",
        "if not train_on_gpu:\n",
        "    print('CUDA is not available.  Training on CPU ...')\n",
        "else:\n",
        "    print('CUDA is available!  Training on GPU ...')\n",
        "\n",
        "# If CUDA is not available, it can be enabled from \n",
        "# Menu > Runtime > Change Runtime Type > Hardware Accelerator > GPU"
      ],
      "execution_count": 0,
      "outputs": []
    },
    {
      "metadata": {
        "id": "I7JOOVcaTmoi",
        "colab_type": "code",
        "colab": {}
      },
      "cell_type": "code",
      "source": [
        "# Download the Flower Dataset from https://www.kaggle.com/lenine/flower-102diffspecies-dataset\n",
        "# Also, the category to name json file\n",
        "!wget -cq https://github.com/udacity/pytorch_challenge/raw/master/cat_to_name.json\n",
        "!wget -cq https://s3.amazonaws.com/content.udacity-data.com/courses/nd188/flower_data.zip\n",
        "!rm -r flower_data || true\n",
        "!unzip -qq flower_data.zip"
      ],
      "execution_count": 0,
      "outputs": []
    },
    {
      "metadata": {
        "id": "1l6rGTh0TqBD",
        "colab_type": "code",
        "colab": {}
      },
      "cell_type": "code",
      "source": [
        "# Set the training and validation directories\n",
        "data_dir = 'flower_data'\n",
        "train_dir = data_dir + '/train'\n",
        "valid_dir = data_dir + '/valid'"
      ],
      "execution_count": 0,
      "outputs": []
    },
    {
      "metadata": {
        "id": "ZFxGfSv040Wt",
        "colab_type": "code",
        "colab": {}
      },
      "cell_type": "code",
      "source": [
        "# Define the transforms for the training and validation sets\n",
        "train_transforms = transforms.Compose([transforms.RandomRotation(20),\n",
        "                                       transforms.Resize(225),\n",
        "                                       transforms.CenterCrop(224),\n",
        "                                       transforms.RandomHorizontalFlip(),\n",
        "                                       transforms.ColorJitter(hue=.05, saturation=.05),\n",
        "                                       transforms.ToTensor(),\n",
        "                                       transforms.Normalize([0.485, 0.456, 0.406],\n",
        "                                                            [0.229, 0.224, 0.225])])\n",
        "valid_transforms = transforms.Compose([transforms.Resize(255),\n",
        "                                      transforms.CenterCrop(224),\n",
        "                                      transforms.ToTensor(),\n",
        "                                       transforms.Normalize([0.485, 0.456, 0.406],\n",
        "                                                            [0.229, 0.224, 0.225])])"
      ],
      "execution_count": 0,
      "outputs": []
    },
    {
      "metadata": {
        "id": "x_NdtXc-IwHw",
        "colab_type": "code",
        "colab": {}
      },
      "cell_type": "code",
      "source": [
        "# Load the datasets with ImageFolder\n",
        "train_data = datasets.ImageFolder(train_dir, transform=train_transforms)\n",
        "valid_data = datasets.ImageFolder(valid_dir, transform=valid_transforms)"
      ],
      "execution_count": 0,
      "outputs": []
    },
    {
      "metadata": {
        "id": "n1uNl0nBI0wP",
        "colab_type": "code",
        "colab": {}
      },
      "cell_type": "code",
      "source": [
        "# Define the dataloaders using the image datasets and the trainforms\n",
        "batch_size = 32\n",
        "trainloader = torch.utils.data.DataLoader(train_data, batch_size=batch_size, shuffle=True)\n",
        "validloader = torch.utils.data.DataLoader(valid_data, batch_size=batch_size)"
      ],
      "execution_count": 0,
      "outputs": []
    },
    {
      "metadata": {
        "id": "sd4jVlzSS2E8",
        "colab_type": "code",
        "colab": {}
      },
      "cell_type": "code",
      "source": [
        "# Define a method to check the images from the dataloaders\n",
        "def imshow(img):\n",
        "  plt.figure(figsize=(25,15))\n",
        "  img=img.numpy()\n",
        "  img[0,:,:]=img[0,:,:]*0.229+0.485\n",
        "  img[1,:,:]=img[1,:,:]*0.224+0.456\n",
        "  img[2,:,:]=img[2,:,:]*0.225+0.406\n",
        "  plt.imshow(np.transpose(img,(1,2,0)))"
      ],
      "execution_count": 0,
      "outputs": []
    },
    {
      "metadata": {
        "id": "PR9xZS24TPvd",
        "colab_type": "code",
        "colab": {}
      },
      "cell_type": "code",
      "source": [
        "# Check the trainloader data\n",
        "images,labels=next(iter(trainloader))\n",
        "img=torchvision.utils.make_grid(images[:32])\n",
        "imshow(img)"
      ],
      "execution_count": 0,
      "outputs": []
    },
    {
      "metadata": {
        "id": "39P6oKc-TX8V",
        "colab_type": "code",
        "colab": {}
      },
      "cell_type": "code",
      "source": [
        "# Check the validloader data\n",
        "images,labels=next(iter(validloader))\n",
        "img=torchvision.utils.make_grid(images[:32])\n",
        "imshow(img)"
      ],
      "execution_count": 0,
      "outputs": []
    },
    {
      "metadata": {
        "id": "HpSa-7KjRqpJ",
        "colab_type": "code",
        "colab": {}
      },
      "cell_type": "code",
      "source": [
        "# Import category to name JSON data\n",
        "with open('cat_to_name.json', 'r') as f:\n",
        "    cat_to_name = json.load(f)"
      ],
      "execution_count": 0,
      "outputs": []
    },
    {
      "metadata": {
        "id": "_eRbjYlDTd0m",
        "colab_type": "code",
        "colab": {}
      },
      "cell_type": "code",
      "source": [
        "# Load a pretrained model of your choice from torchvision.models\n",
        "model = models.resnet152(pretrained=True)\n",
        "\n",
        "# Check model architecture so you can define your new classifier\n",
        "print(model)"
      ],
      "execution_count": 0,
      "outputs": []
    },
    {
      "metadata": {
        "id": "Lv80gw22Wtfv",
        "colab_type": "code",
        "colab": {}
      },
      "cell_type": "code",
      "source": [
        "# Define a new untrained feed-forward classifier, using ReLu activations and droptout\n",
        "# Keep input features at 2048, change output features from 1000 to 102 (# of flower categories)\n",
        "\n",
        "model.fc = nn.Sequential(nn.Linear(2048, 512),\n",
        "                            nn.ReLU(),\n",
        "                            nn.Dropout(0.2),\n",
        "                            nn.Linear(512, 102),\n",
        "                            nn.LogSoftmax(dim=1))\n",
        "\n",
        "# Check model with the new fc classifier\n",
        "print(model)"
      ],
      "execution_count": 0,
      "outputs": []
    },
    {
      "metadata": {
        "id": "PXga3kacNUVh",
        "colab_type": "code",
        "colab": {}
      },
      "cell_type": "code",
      "source": [
        "# Freeze all model parameters except the untrained newly created classifier\n",
        "for param in model.parameters():\n",
        "    param.requires_grad = False\n",
        "   \n",
        "for param in model.fc.parameters():\n",
        "    param.requires_grad = True"
      ],
      "execution_count": 0,
      "outputs": []
    },
    {
      "metadata": {
        "id": "CGnZz0ZuNvVK",
        "colab_type": "code",
        "colab": {}
      },
      "cell_type": "code",
      "source": [
        "# Define the criterion and optimizer\n",
        "criterion = nn.NLLLoss()\n",
        "optimizer = optim.Adam(model.fc.parameters(), lr=0.001)"
      ],
      "execution_count": 0,
      "outputs": []
    },
    {
      "metadata": {
        "id": "-2xfbIZ7O1Lv",
        "colab_type": "code",
        "colab": {}
      },
      "cell_type": "code",
      "source": [
        "# Set the device on which the training will be performed: cuda or cpu\n",
        "# If cuda is available it's best to use it to improve trainig speed by over 100x\n",
        "device=torch.device((\"cuda\") if torch.cuda.is_available() else \"cpu\")\n",
        "print(device)\n",
        "model.to(device)"
      ],
      "execution_count": 0,
      "outputs": []
    }
  ]
}